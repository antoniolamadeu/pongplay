{
 "cells": [
  {
   "cell_type": "markdown",
   "metadata": {},
   "source": [
    "# Train Model to play pong"
   ]
  },
  {
   "cell_type": "code",
   "execution_count": 1,
   "metadata": {
    "collapsed": true
   },
   "outputs": [],
   "source": [
    "import tensorflow as tf\n",
    "import numpy as np\n",
    "import matplotlib.pyplot as plt\n",
    "%matplotlib inline"
   ]
  },
  {
   "cell_type": "markdown",
   "metadata": {},
   "source": [
    "## Loading and inspecting training data"
   ]
  },
  {
   "cell_type": "code",
   "execution_count": 2,
   "metadata": {
    "collapsed": true
   },
   "outputs": [],
   "source": [
    "dataset = np.load(file=\"traindata_v1.npy\", encoding='bytes')"
   ]
  },
  {
   "cell_type": "code",
   "execution_count": 3,
   "metadata": {
    "scrolled": true
   },
   "outputs": [
    {
     "name": "stdout",
     "output_type": "stream",
     "text": [
      "Counter({0.0: 16034, 1.0: 2090, 2.0: 1946})\n",
      "Prediction must be higher than: 0.798903836571998\n"
     ]
    }
   ],
   "source": [
    "from collections import Counter\n",
    "labels_counter = Counter(dataset[:,6].tolist())\n",
    "print(labels_counter)\n",
    "\n",
    "print(\"Prediction must be higher than: {}\".format(labels_counter[0.0]/dataset.shape[0]))"
   ]
  },
  {
   "cell_type": "markdown",
   "metadata": {},
   "source": [
    "## Create size invariant features\n",
    "We will get the approximate width and height of the game window and divide vertical and horizontal features by these values so we get size invariant features so the model can perform nearly the same in any size."
   ]
  },
  {
   "cell_type": "code",
   "execution_count": 4,
   "metadata": {
    "collapsed": true
   },
   "outputs": [],
   "source": [
    "def set_size_invariant_features(dataset):\n",
    "    #Get max and min feature values of the entire dataset\n",
    "    min_values = np.amin(dataset, axis=0)\n",
    "    max_values = np.amax(dataset, axis=0)\n",
    "    \n",
    "    #We will set the width the difference between the bars horizontal positions max and min\n",
    "    gwindow_width = max_values[4] - min_values[2]\n",
    "    #We will set the height as the difference between the max and mins positions the ball has deslocated\n",
    "    gwindow_height = max_values[1] - min_values[1]\n",
    "    \n",
    "    #Create vector to transform features to position invariant\n",
    "    #We will divide horizontal features by the width and vertical features by the height\n",
    "    pos_invariant_vector = np.array([\n",
    "        gwindow_width, gwindow_height, #Ball position\n",
    "        gwindow_width, gwindow_height, #Bar1 position\n",
    "        gwindow_width, gwindow_height, #Bar2 position\n",
    "        1 #datapoint label, stays the same\n",
    "    ])\n",
    "    \n",
    "    return dataset/pos_invariant_vector"
   ]
  },
  {
   "cell_type": "code",
   "execution_count": 5,
   "metadata": {
    "collapsed": true
   },
   "outputs": [],
   "source": [
    "#dataset = set_size_invariant_features(dataset)"
   ]
  },
  {
   "cell_type": "markdown",
   "metadata": {},
   "source": [
    "## Set up ball speed as a feature"
   ]
  },
  {
   "cell_type": "code",
   "execution_count": 6,
   "metadata": {
    "collapsed": true
   },
   "outputs": [],
   "source": [
    "def set_ball_speed(dataset):\n",
    "    #Since we don't know the previous position of the first sample, we will have one less datapoint\n",
    "    #Velocity(T) = Position(T) - Position(T-1)\n",
    "    speed_datapoints = dataset[1:, :2] - dataset[0:-1, :2]\n",
    "    #Insert new datapoints after the ball position features\n",
    "    new_dataset = np.concatenate((dataset[1:, :2], speed_datapoints, dataset[1:, 2:]), axis=1)\n",
    "    return new_dataset   "
   ]
  },
  {
   "cell_type": "code",
   "execution_count": 7,
   "metadata": {
    "collapsed": true
   },
   "outputs": [],
   "source": [
    "dataset = set_ball_speed(dataset)"
   ]
  },
  {
   "cell_type": "markdown",
   "metadata": {},
   "source": [
    "## Creating model"
   ]
  },
  {
   "cell_type": "code",
   "execution_count": 8,
   "metadata": {
    "collapsed": true
   },
   "outputs": [],
   "source": [
    "tf.reset_default_graph()\n",
    "\n",
    "n_features = 8\n",
    "\n",
    "x_mean = tf.Variable(initial_value=[0]*n_features, trainable=False, dtype=tf.float32)\n",
    "x_std = tf.Variable(initial_value=[1]*n_features, trainable=False, dtype=tf.float32)\n",
    "\n",
    "x = tf.placeholder(dtype=tf.float32, shape=[None, n_features])\n",
    "keep_prob = tf.placeholder(dtype=tf.float32)\n",
    "\n",
    "x_norm = (x-x_mean)/x_std\n",
    "    \n",
    "y = tf.placeholder(dtype=tf.int32, shape=[None])\n",
    "y_onehot = tf.one_hot(y, depth=3)\n",
    "    \n",
    "h1 = tf.layers.dense(x, 20, activation=tf.nn.relu)\n",
    "#h1 = tf.nn.dropout(h1, keep_prob)\n",
    "\n",
    "h2 = tf.layers.dense(h1, 20, activation=tf.nn.relu)\n",
    "#h2 = tf.nn.dropout(h2, keep_prob)\n",
    "\n",
    "h3 = tf.layers.dense(h2, 10, activation=tf.nn.relu)\n",
    "#h3 = tf.nn.dropout(h3, keep_prob)\n",
    "    \n",
    "logits = tf.layers.dense(h3, 3, activation=None)\n",
    "\n",
    "sc = tf.nn.softmax_cross_entropy_with_logits(logits=logits, labels=y_onehot)\n",
    "\n",
    "cost = tf.reduce_mean(sc)\n",
    "\n",
    "# Accuracy\n",
    "correct_pred = tf.equal(tf.argmax(logits, 1), tf.argmax(y_onehot, 1))\n",
    "accuracy = tf.reduce_mean(tf.cast(correct_pred, tf.float32), name='accuracy')\n",
    "\n",
    "#Optimizer\n",
    "optimizer = tf.train.AdamOptimizer(0.001).minimize(cost)"
   ]
  },
  {
   "cell_type": "code",
   "execution_count": 9,
   "metadata": {
    "collapsed": true,
    "scrolled": true
   },
   "outputs": [],
   "source": [
    "def balance_data_labels():\n",
    "    extra_data_inputs = list()\n",
    "    extra_data_labels = list()\n",
    "\n",
    "    for d_input, d_label in zip(train_data_inputs, train_data_labels):\n",
    "        if d_label[1] == 1 or d_label[2] == 1:\n",
    "            for _ in range(5):\n",
    "                extra_data_inputs.append(d_input.copy())\n",
    "                extra_data_labels.append(d_label.copy())\n",
    "\n",
    "    extra_data_inputs = np.array(extra_data_inputs)\n",
    "    extra_data_labels = np.array(extra_data_labels)\n",
    "\n",
    "    print(extra_data_inputs.shape)\n",
    "    print(extra_data_labels.shape)\n",
    "\n",
    "    enhanced_train_data_inputs = np.concatenate((train_data_inputs, extra_data_inputs), axis=0)\n",
    "    enhanced_train_data_labels = np.concatenate((train_data_labels, extra_data_labels), axis=0)\n",
    "\n",
    "    print(enhanced_train_data_inputs.shape)\n",
    "    print(enhanced_train_data_labels.shape)"
   ]
  },
  {
   "cell_type": "markdown",
   "metadata": {},
   "source": [
    "## Normalize data"
   ]
  },
  {
   "cell_type": "code",
   "execution_count": 10,
   "metadata": {
    "collapsed": true
   },
   "outputs": [],
   "source": [
    "def normalize_data():\n",
    "    data_mean = np.mean(enhanced_train_data_inputs, axis=0)\n",
    "    data_std = np.std(enhanced_train_data_inputs, axis=0)\n",
    "\n",
    "    norm_enhanced_train_data_inputs = (enhanced_train_data_inputs - data_mean) / data_std"
   ]
  },
  {
   "cell_type": "markdown",
   "metadata": {},
   "source": [
    "## Get norm factors"
   ]
  },
  {
   "cell_type": "code",
   "execution_count": 11,
   "metadata": {
    "collapsed": true
   },
   "outputs": [],
   "source": [
    "data_mean = np.mean(dataset, axis=0)\n",
    "data_std = np.std(dataset, axis=0)"
   ]
  },
  {
   "cell_type": "markdown",
   "metadata": {},
   "source": [
    "## Split dataset into training validation and test set"
   ]
  },
  {
   "cell_type": "code",
   "execution_count": 12,
   "metadata": {
    "scrolled": true
   },
   "outputs": [
    {
     "name": "stdout",
     "output_type": "stream",
     "text": [
      "(12041, 9)\n",
      "(4014, 9)\n",
      "(4014, 9)\n"
     ]
    }
   ],
   "source": [
    "from sklearn.model_selection import train_test_split\n",
    "\n",
    "train_data, test_data = train_test_split(dataset, test_size=0.4, random_state=None)\n",
    "valid_data, test_data = train_test_split(test_data, test_size=0.5, random_state=None)\n",
    "\n",
    "print(train_data.shape)\n",
    "print(valid_data.shape)\n",
    "print(test_data.shape)"
   ]
  },
  {
   "cell_type": "code",
   "execution_count": 13,
   "metadata": {
    "scrolled": true
   },
   "outputs": [
    {
     "name": "stdout",
     "output_type": "stream",
     "text": [
      "[[ 662.    71.   169.5   50.5   51.    91.   662.    71. ]]\n",
      "[ 1.]\n"
     ]
    }
   ],
   "source": [
    "print(train_data[:1, :-1])\n",
    "print(train_data[:1, -1])"
   ]
  },
  {
   "cell_type": "markdown",
   "metadata": {},
   "source": [
    "## Run model"
   ]
  },
  {
   "cell_type": "code",
   "execution_count": 14,
   "metadata": {},
   "outputs": [
    {
     "name": "stdout",
     "output_type": "stream",
     "text": [
      "Epoch: 0 Cost: 18.070817947387695\n",
      "Accuracy: 0.18485301733016968\n",
      "\n",
      "Epoch: 500 Cost: 0.5203962326049805\n",
      "Accuracy: 0.8026905655860901\n",
      "\n",
      "Epoch: 1000 Cost: 0.5003190040588379\n",
      "Accuracy: 0.8026905655860901\n",
      "\n",
      "Epoch: 1500 Cost: 0.48165735602378845\n",
      "Accuracy: 0.8148978352546692\n",
      "\n",
      "Epoch: 2000 Cost: 0.4446142017841339\n",
      "Accuracy: 0.8226208090782166\n",
      "\n",
      "Epoch: 2500 Cost: 0.4170750677585602\n",
      "Accuracy: 0.8241155743598938\n",
      "\n",
      "Epoch: 3000 Cost: 0.39504796266555786\n",
      "Accuracy: 0.8373193740844727\n",
      "\n",
      "Epoch: 3500 Cost: 0.37672722339630127\n",
      "Accuracy: 0.8405580520629883\n",
      "\n",
      "Epoch: 4000 Cost: 0.36390987038612366\n",
      "Accuracy: 0.8420528173446655\n",
      "\n",
      "Epoch: 4500 Cost: 0.3564572334289551\n",
      "Accuracy: 0.8435475826263428\n",
      "\n",
      "Epoch: 5000 Cost: 0.3530547022819519\n",
      "Accuracy: 0.8467862606048584\n",
      "\n",
      "Epoch: 5500 Cost: 0.35096168518066406\n",
      "Accuracy: 0.8487792611122131\n",
      "\n",
      "Epoch: 6000 Cost: 0.3487280607223511\n",
      "Accuracy: 0.847533643245697\n",
      "\n",
      "Epoch: 6500 Cost: 0.3478448987007141\n",
      "Accuracy: 0.8490284085273743\n",
      "\n",
      "Epoch: 7000 Cost: 0.3466431796550751\n",
      "Accuracy: 0.8515197038650513\n",
      "\n",
      "Epoch: 7500 Cost: 0.34649327397346497\n",
      "Accuracy: 0.8507723212242126\n",
      "\n",
      "Epoch: 8000 Cost: 0.3428831696510315\n",
      "Accuracy: 0.8550074696540833\n",
      "\n",
      "Epoch: 8500 Cost: 0.3409534692764282\n",
      "Accuracy: 0.8550074696540833\n",
      "\n",
      "Epoch: 9000 Cost: 0.3396821618080139\n",
      "Accuracy: 0.8552566170692444\n",
      "\n",
      "Epoch: 9500 Cost: 0.33844754099845886\n",
      "Accuracy: 0.8540109395980835\n",
      "\n",
      "Epoch: 10000 Cost: 0.33774489164352417\n",
      "Accuracy: 0.853512704372406\n",
      "\n",
      "Epoch: 10500 Cost: 0.33724159002304077\n",
      "Accuracy: 0.8565022349357605\n",
      "\n",
      "Epoch: 11000 Cost: 0.3360753655433655\n",
      "Accuracy: 0.8537618517875671\n",
      "\n",
      "Epoch: 11500 Cost: 0.3354368805885315\n",
      "Accuracy: 0.8557548522949219\n",
      "\n",
      "Epoch: 12000 Cost: 0.33467718958854675\n",
      "Accuracy: 0.8555057048797607\n",
      "\n",
      "Epoch: 12500 Cost: 0.3346434533596039\n",
      "Accuracy: 0.8537618517875671\n",
      "\n",
      "Epoch: 13000 Cost: 0.3339770436286926\n",
      "Accuracy: 0.853512704372406\n",
      "\n",
      "Epoch: 13500 Cost: 0.3329138457775116\n",
      "Accuracy: 0.8547583222389221\n",
      "\n",
      "Epoch: 14000 Cost: 0.33251816034317017\n",
      "Accuracy: 0.8542600870132446\n",
      "\n",
      "Epoch: 14500 Cost: 0.33273181319236755\n",
      "Accuracy: 0.8530144691467285\n",
      "\n",
      "Epoch: 15000 Cost: 0.33253538608551025\n",
      "Accuracy: 0.8530144691467285\n",
      "\n",
      "Epoch: 15500 Cost: 0.33168527483940125\n",
      "Accuracy: 0.8532635569572449\n",
      "\n",
      "Epoch: 16000 Cost: 0.3316497504711151\n",
      "Accuracy: 0.8532635569572449\n",
      "\n",
      "Epoch: 16500 Cost: 0.3302377760410309\n",
      "Accuracy: 0.8537618517875671\n",
      "\n",
      "Epoch: 17000 Cost: 0.33151310682296753\n",
      "Accuracy: 0.8530144691467285\n",
      "\n",
      "Epoch: 17500 Cost: 0.32963985204696655\n",
      "Accuracy: 0.8527653217315674\n",
      "\n",
      "Epoch: 18000 Cost: 0.3306450843811035\n",
      "Accuracy: 0.851021409034729\n",
      "\n",
      "Epoch: 18500 Cost: 0.3283606469631195\n",
      "Accuracy: 0.8537618517875671\n",
      "\n",
      "Epoch: 19000 Cost: 0.32774636149406433\n",
      "Accuracy: 0.8532635569572449\n",
      "\n",
      "Epoch: 19500 Cost: 0.32833385467529297\n",
      "Accuracy: 0.853512704372406\n",
      "\n"
     ]
    },
    {
     "data": {
      "image/png": "[encoded data removed]",
      "text/plain": [
       "<matplotlib.figure.Figure at 0xb777e80>"
      ]
     },
     "metadata": {},
     "output_type": "display_data"
    },
    {
     "data": {
      "image/png": "[encoded data removed]",
      "text/plain": [
       "<matplotlib.figure.Figure at 0xa721940>"
      ]
     },
     "metadata": {},
     "output_type": "display_data"
    },
    {
     "name": "stdout",
     "output_type": "stream",
     "text": [
      "Final accuracy: 0.8522670865058899\n"
     ]
    }
   ],
   "source": [
    "from random import shuffle\n",
    "import sklearn\n",
    "from sklearn.model_selection import train_test_split\n",
    "import matplotlib\n",
    "\n",
    "epochs = 20000\n",
    "keep_prob_value = 1\n",
    "\n",
    "cost_list = []\n",
    "acc_list = []\n",
    "\n",
    "with tf.Session() as sess:\n",
    "    # Initializing the variables\n",
    "    sess.run(tf.global_variables_initializer())\n",
    "    \n",
    "    #Assign norm factors values\n",
    "    #sess.run(tf.assign(x_mean, data_mean[:-1]))\n",
    "    #sess.run(tf.assign(x_std, data_std[:-1]))\n",
    "\n",
    "    for e in range(epochs):\n",
    "        \n",
    "        #Run optimizer and compute cost\n",
    "        x_train = train_data[:, :-1]\n",
    "        y_train = train_data[:, -1]\n",
    "                \n",
    "        cost_value, _ = sess.run([cost, optimizer], feed_dict={\n",
    "            x: x_train,\n",
    "            y: y_train,\n",
    "            keep_prob: keep_prob_value\n",
    "        })\n",
    "\n",
    "        if e % 500 == 0:\n",
    "            print(\"Epoch: {} Cost: {}\".format(e, cost_value))\n",
    "\n",
    "        cost_list.append(cost_value)\n",
    "\n",
    "        \n",
    "        \n",
    "        #Run accuracy and compute its value\n",
    "        x_valid = valid_data[:, :-1]\n",
    "        y_valid = valid_data[:, -1]\n",
    "        \n",
    "        acc_value = sess.run(accuracy, feed_dict={\n",
    "            x: x_valid,\n",
    "            y: y_valid,\n",
    "            keep_prob: 1\n",
    "        })\n",
    "                \n",
    "        acc_list.append(acc_value)\n",
    "\n",
    "        if e % 500 == 0:\n",
    "            print(\"Accuracy: {}\".format(acc_value))\n",
    "            print(\"\")\n",
    "            \n",
    "            \n",
    "     \n",
    "    #Calculate final accuracy\n",
    "    x_test = test_data[:, :-1]\n",
    "    y_test = test_data[:, -1]\n",
    "    \n",
    "    final_acc, predictions = sess.run([accuracy, logits], feed_dict={\n",
    "            x: x_test,\n",
    "            y: y_test,\n",
    "            keep_prob: 1\n",
    "        })\n",
    "    \n",
    "    #print(predictions)\n",
    "\n",
    "             \n",
    "    plt.plot(cost_list)\n",
    "    plt.show()\n",
    "    plt.plot(acc_list)\n",
    "    plt.show()\n",
    "    print(\"Final accuracy: {}\".format(final_acc))\n",
    "            \n",
    "    saver = tf.train.Saver()\n",
    "    save_path = saver.save(sess, \"./model/model_v21_nodrop.ckpt\")"
   ]
  },
  {
   "cell_type": "code",
   "execution_count": 15,
   "metadata": {},
   "outputs": [
    {
     "name": "stdout",
     "output_type": "stream",
     "text": [
      "Counter({0: 3411, 1: 318, 2: 285})\n",
      "Counter({0.0: 3177, 1.0: 441, 2.0: 396})\n"
     ]
    }
   ],
   "source": [
    "print(Counter(np.argmax(predictions, axis=1).tolist()))\n",
    "print(Counter(y_test))"
   ]
  },
  {
   "cell_type": "code",
   "execution_count": null,
   "metadata": {
    "collapsed": true
   },
   "outputs": [],
   "source": []
  }
 ],
 "metadata": {
  "kernelspec": {
   "display_name": "Python 3",
   "language": "python",
   "name": "python3"
  },
  "language_info": {
   "codemirror_mode": {
    "name": "ipython",
    "version": 3
   },
   "file_extension": ".py",
   "mimetype": "text/x-python",
   "name": "python",
   "nbconvert_exporter": "python",
   "pygments_lexer": "ipython3",
   "version": "3.6.2"
  }
 },
 "nbformat": 4,
 "nbformat_minor": 2
}
