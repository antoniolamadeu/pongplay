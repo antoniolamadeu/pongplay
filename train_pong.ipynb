{
 "cells": [
  {
   "cell_type": "code",
   "execution_count": 6,
   "metadata": {
    "collapsed": true
   },
   "outputs": [],
   "source": [
    "import tensorflow as tf\n",
    "import numpy as np\n",
    "import matplotlib.pyplot as plt\n",
    "%matplotlib inline\n",
    "\n",
    "from get_pong_data import get_objects_locations"
   ]
  },
  {
   "cell_type": "code",
   "execution_count": 7,
   "metadata": {},
   "outputs": [
    {
     "data": {
      "text/plain": [
       "(array([ 145.5,   80.5]), array([ 28.5,  94.5]), array([ 449.5,  151.5]))"
      ]
     },
     "execution_count": 7,
     "metadata": {},
     "output_type": "execute_result"
    }
   ],
   "source": [
    "get_objects_locations(train_data[1][0])"
   ]
  },
  {
   "cell_type": "code",
   "execution_count": 2,
   "metadata": {
    "collapsed": true
   },
   "outputs": [],
   "source": [
    "#480 #270 #1"
   ]
  },
  {
   "cell_type": "code",
   "execution_count": 25,
   "metadata": {
    "collapsed": true
   },
   "outputs": [],
   "source": [
    "train_data = np.load(file=\"train_data/training_data-3.npy\", encoding='bytes')"
   ]
  },
  {
   "cell_type": "code",
   "execution_count": 26,
   "metadata": {},
   "outputs": [
    {
     "data": {
      "text/plain": [
       "(1000, 2)"
      ]
     },
     "execution_count": 26,
     "metadata": {},
     "output_type": "execute_result"
    }
   ],
   "source": [
    "train_data.shape"
   ]
  },
  {
   "cell_type": "code",
   "execution_count": 27,
   "metadata": {},
   "outputs": [
    {
     "data": {
      "text/plain": [
       "array([845,  98,  57])"
      ]
     },
     "execution_count": 27,
     "metadata": {},
     "output_type": "execute_result"
    }
   ],
   "source": [
    "np.sum(np.array(train_data[:,1].tolist()), axis=0)"
   ]
  },
  {
   "cell_type": "code",
   "execution_count": 24,
   "metadata": {},
   "outputs": [
    {
     "data": {
      "text/plain": [
       "<matplotlib.image.AxesImage at 0xe713eb8>"
      ]
     },
     "execution_count": 24,
     "metadata": {},
     "output_type": "execute_result"
    },
    {
     "data": {
      "image/png": "[encoded data removed]",
      "text/plain": [
       "<matplotlib.figure.Figure at 0xe860e10>"
      ]
     },
     "metadata": {},
     "output_type": "display_data"
    }
   ],
   "source": [
    "plt.imshow(train_data[1][0])"
   ]
  },
  {
   "cell_type": "markdown",
   "metadata": {
    "scrolled": true
   },
   "source": [
    "normalize\n",
    "normalize everything to 1 and 0?\n",
    "create model\n",
    "train model"
   ]
  },
  {
   "cell_type": "markdown",
   "metadata": {},
   "source": [
    "## Create model"
   ]
  },
  {
   "cell_type": "code",
   "execution_count": 28,
   "metadata": {
    "collapsed": true
   },
   "outputs": [],
   "source": [
    "def pong_dense_model():\n",
    "    inputs = tf.placeholder(dtype=tf.float32, shape=[None, 6])\n",
    "    \n",
    "    y = tf.placeholder(dtype=tf.float32, shape=[None, 3])\n",
    "    \n",
    "    h1 = dense(inputs, 20, activation=tf.nn.relu)\n",
    "    \n",
    "    logits = dense(h1, 3, activation=None)\n",
    "\n",
    "    sc = tf.nn.softmax_cross_entropy_with_logits(logits=logits, labels=y)\n",
    "\n",
    "    cost = tf.reduce_mean(sc)\n",
    "\n",
    "    # Accuracy\n",
    "    correct_pred = tf.equal(tf.argmax(logits, 1), tf.argmax(y, 1))\n",
    "    accuracy = tf.reduce_mean(tf.cast(correct_pred, tf.float32), name='accuracy')\n",
    "    \n",
    "    return inputs, y, logits, cost, accuracy\n",
    "    "
   ]
  },
  {
   "cell_type": "code",
   "execution_count": 6,
   "metadata": {
    "collapsed": true
   },
   "outputs": [],
   "source": [
    "#from pong_model import pong_model\n",
    "\n",
    "# Remove previous weights, bias, inputs, etc..\n",
    "tf.reset_default_graph()\n",
    "\n",
    "\n",
    "inputs, y, logits, cost, accuracy = pong_dense_model\n",
    "\n",
    "#inputs = tf.placeholder(dtype=tf.float32, shape=[None, 270, 480, 1])\n",
    "\n",
    "#y = tf.placeholder(dtype=tf.float32, shape=[None, 3])\n",
    "\n",
    "#Divide inputs by 255 for normalization\n",
    "#x = conv2d(inputs/255, 10, 5, 2, 'SAME')\n",
    "#x = conv2d(x, 20, 5, 2, 'SAME')\n",
    "#x = conv2d(x, 40, 5, 2, 'SAME')\n",
    "#x = conv2d(x, 80, 5, 2, 'SAME')\n",
    "\n",
    "#x = tf.contrib.layers.flatten(x)\n",
    "\n",
    "#x = dense(x,5000,activation=tf.nn.relu)\n",
    "#x = dense(x,500,activation=tf.nn.relu)\n",
    "#x = dense(x,100,activation=tf.nn.relu)\n",
    "#x = dense(x,50,activation=tf.nn.relu)\n",
    "\n",
    "#logits = dense(x,3,activation=None)\n",
    "\n",
    "\n",
    "#sc = tf.nn.softmax_cross_entropy_with_logits(logits=logits, labels=y)\n",
    "\n",
    "#cost = tf.reduce_mean(sc)\n",
    "\n",
    "# Accuracy\n",
    "#correct_pred = tf.equal(tf.argmax(logits, 1), tf.argmax(y, 1))\n",
    "#accuracy = tf.reduce_mean(tf.cast(correct_pred, tf.float32), name='accuracy')\n",
    "\n",
    "optimizer = tf.train.AdamOptimizer(0.001).minimize(cost)\n",
    "\n"
   ]
  },
  {
   "cell_type": "code",
   "execution_count": 8,
   "metadata": {},
   "outputs": [
    {
     "name": "stdout",
     "output_type": "stream",
     "text": [
      "training_data-1.npy 1000\n",
      "Batch: 0 Cost: 1.0918827056884766\n",
      "Batch: 100 Cost: 0.626941442489624\n",
      "Batch: 200 Cost: 0.7064834833145142\n",
      "Batch: 300 Cost: 0.12463074922561646\n",
      "Batch: 400 Cost: 1.4217376708984375\n",
      "Batch: 500 Cost: 0.2523740828037262\n",
      "Batch: 600 Cost: 0.23921632766723633\n",
      "Batch: 700 Cost: 0.48375004529953003\n",
      "Accuracy: 0.824999988079071\n",
      "\n",
      "training_data-4.npy 1000\n",
      "Batch: 0 Cost: 0.6370262503623962\n",
      "Batch: 100 Cost: 0.8621586561203003\n",
      "Batch: 200 Cost: 0.6963252425193787\n",
      "Batch: 300 Cost: 0.6341063976287842\n",
      "Batch: 400 Cost: 0.5601292252540588\n",
      "Batch: 500 Cost: 0.9130372405052185\n",
      "Batch: 600 Cost: 0.6417705416679382\n",
      "Batch: 700 Cost: 0.454874724149704\n",
      "Accuracy: 0.824999988079071\n",
      "\n",
      "training_data-2.npy 1000\n",
      "Batch: 0 Cost: 0.2237546145915985\n",
      "Batch: 100 Cost: 0.5487390160560608\n",
      "Batch: 200 Cost: 0.6997503042221069\n",
      "Batch: 300 Cost: 0.6697346568107605\n",
      "Batch: 400 Cost: 0.8171801567077637\n",
      "Batch: 500 Cost: 0.7279303073883057\n",
      "Batch: 600 Cost: 0.6201783418655396\n",
      "Batch: 700 Cost: 0.5420321822166443\n",
      "Accuracy: 0.8100000023841858\n",
      "\n",
      "training_data-3.npy 1000\n",
      "Batch: 0 Cost: 0.26747897267341614\n",
      "Batch: 100 Cost: 0.1272221803665161\n",
      "Batch: 200 Cost: 0.49774208664894104\n",
      "Batch: 300 Cost: 0.5993552207946777\n",
      "Batch: 400 Cost: 0.6447157263755798\n",
      "Batch: 500 Cost: 0.611299455165863\n",
      "Batch: 600 Cost: 0.39587345719337463\n",
      "Batch: 700 Cost: 0.5517762899398804\n",
      "Accuracy: 0.8149999976158142\n",
      "\n",
      "training_data-2.npy 1000\n",
      "Batch: 0 Cost: 0.27439719438552856\n",
      "Batch: 100 Cost: 0.5027512907981873\n",
      "Batch: 200 Cost: 0.49548494815826416\n",
      "Batch: 300 Cost: 0.6827554106712341\n",
      "Batch: 400 Cost: 0.49590176343917847\n",
      "Batch: 500 Cost: 0.4323863983154297\n",
      "Batch: 600 Cost: 0.40210258960723877\n",
      "Batch: 700 Cost: 0.3463371992111206\n",
      "Accuracy: 0.7649999856948853\n",
      "\n",
      "training_data-4.npy 1000\n",
      "Batch: 0 Cost: 0.7136576771736145\n",
      "Batch: 100 Cost: 0.602302074432373\n",
      "Batch: 200 Cost: 0.5438055992126465\n",
      "Batch: 300 Cost: 0.5587149262428284\n",
      "Batch: 400 Cost: 0.5616825819015503\n",
      "Batch: 500 Cost: 0.5762796998023987\n",
      "Batch: 600 Cost: 0.5394973158836365\n",
      "Batch: 700 Cost: 0.4298316538333893\n",
      "Accuracy: 0.8500000238418579\n",
      "\n",
      "training_data-1.npy 1000\n",
      "Batch: 0 Cost: 0.8259401917457581\n",
      "Batch: 100 Cost: 0.32547587156295776\n",
      "Batch: 200 Cost: 0.2874337136745453\n",
      "Batch: 300 Cost: 0.34998276829719543\n",
      "Batch: 400 Cost: 0.31209707260131836\n",
      "Batch: 500 Cost: 0.43933817744255066\n",
      "Batch: 600 Cost: 0.43455013632774353\n",
      "Batch: 700 Cost: 0.4634535312652588\n",
      "Accuracy: 0.8500000238418579\n",
      "\n",
      "training_data-3.npy 1000\n",
      "Batch: 0 Cost: 0.9006369113922119\n",
      "Batch: 100 Cost: 0.7317739129066467\n",
      "Batch: 200 Cost: 0.5110318660736084\n",
      "Batch: 300 Cost: 0.33526116609573364\n",
      "Batch: 400 Cost: 0.36625415086746216\n",
      "Batch: 500 Cost: 0.6139941215515137\n",
      "Batch: 600 Cost: 0.4923974573612213\n",
      "Batch: 700 Cost: 0.4727884531021118\n",
      "Accuracy: 0.8450000286102295\n",
      "\n",
      "training_data-1.npy 1000\n",
      "Batch: 0 Cost: 0.8665964007377625\n",
      "Batch: 100 Cost: 0.4297380745410919\n",
      "Batch: 200 Cost: 0.37497901916503906\n",
      "Batch: 300 Cost: 0.4486556351184845\n",
      "Batch: 400 Cost: 0.4395867884159088\n",
      "Batch: 500 Cost: 0.3579460382461548\n",
      "Batch: 600 Cost: 0.33761176466941833\n",
      "Batch: 700 Cost: 0.3278461694717407\n",
      "Accuracy: 0.9150000214576721\n",
      "\n",
      "training_data-3.npy 1000\n",
      "Batch: 0 Cost: 0.10753849148750305\n",
      "Batch: 100 Cost: 0.11109989881515503\n",
      "Batch: 200 Cost: 0.15536075830459595\n",
      "Batch: 300 Cost: 0.25546881556510925\n",
      "Batch: 400 Cost: 0.36158087849617004\n",
      "Batch: 500 Cost: 0.32702019810676575\n",
      "Batch: 600 Cost: 0.47041434049606323\n",
      "Batch: 700 Cost: 0.8645973205566406\n",
      "Accuracy: 0.8650000095367432\n",
      "\n",
      "training_data-4.npy 1000\n",
      "Batch: 0 Cost: 0.8115113973617554\n",
      "Batch: 100 Cost: 0.5711275339126587\n",
      "Batch: 200 Cost: 0.5165829062461853\n",
      "Batch: 300 Cost: 0.5096527934074402\n",
      "Batch: 400 Cost: 0.4938603937625885\n",
      "Batch: 500 Cost: 0.46787339448928833\n",
      "Batch: 600 Cost: 0.35267502069473267\n",
      "Batch: 700 Cost: 0.4782872796058655\n",
      "Accuracy: 0.800000011920929\n",
      "\n",
      "training_data-2.npy 1000\n",
      "Batch: 0 Cost: 0.2229921668767929\n",
      "Batch: 100 Cost: 0.5168505311012268\n",
      "Batch: 200 Cost: 0.380906343460083\n",
      "Batch: 300 Cost: 0.604918360710144\n",
      "Batch: 400 Cost: 0.34535399079322815\n",
      "Batch: 500 Cost: 0.4391666054725647\n",
      "Batch: 600 Cost: 0.29712530970573425\n",
      "Batch: 700 Cost: 0.6717065572738647\n",
      "Accuracy: 0.800000011920929\n",
      "\n"
     ]
    }
   ],
   "source": [
    "from random import shuffle\n",
    "from sklearn.model_selection import train_test_split\n",
    "\n",
    "epochs = 3\n",
    "FILE_I_END = 4\n",
    "WIDTH = 480\n",
    "HEIGHT = 270\n",
    "batch_size = 100\n",
    "\n",
    "with tf.Session() as sess:\n",
    "    # Initializing the variables\n",
    "    sess.run(tf.global_variables_initializer())\n",
    "\n",
    "    for e in range(epochs):\n",
    "\n",
    "        data_order = [i for i in range(1,FILE_I_END+1)]\n",
    "        shuffle(data_order)\n",
    "        \n",
    "        for count,i in enumerate(data_order):\n",
    "\n",
    "            try:\n",
    "                file_name = 'train_data/training_data-{}.npy'.format(i)\n",
    "                # full file info\n",
    "                train_data = np.load(file_name, encoding='bytes')\n",
    "                shuffle(train_data)\n",
    "                print('training_data-{}.npy'.format(i),len(train_data))\n",
    "                \n",
    "                valid_data = train_data[800:]\n",
    "                train_data = train_data[:800]\n",
    "                \n",
    "                train_X = np.array([i[0] for i in train_data]).reshape(-1,HEIGHT,WIDTH,1)\n",
    "                train_Y = np.array([i[1] for i in train_data])\n",
    "                \n",
    "                valid_X = np.array([i[0] for i in valid_data]).reshape(-1,HEIGHT,WIDTH,1)\n",
    "                valid_Y = np.array([i[1] for i in valid_data])\n",
    "                \n",
    "                for b in range(0, 800, batch_size):\n",
    "                    \n",
    "                    cost_value, _ = sess.run([cost, optimizer], feed_dict={\n",
    "                        inputs: train_X[b:b+batch_size],\n",
    "                        y: train_Y[b:b+batch_size]\n",
    "                    })\n",
    "                    print(\"Batch: {} Cost: {}\".format(b, cost_value))\n",
    "                \n",
    "                acc_value = sess.run(accuracy, feed_dict={\n",
    "                    inputs: valid_X,\n",
    "                    y: valid_Y\n",
    "                })\n",
    "                \n",
    "                print(\"Accuracy: {}\".format(acc_value))\n",
    "                print(\"\")\n",
    "\n",
    "                #model.fit({'input': X}, {'targets': Y}, n_epoch=1, validation_set=({'input': test_x}, {'targets': test_y}), \n",
    "                    #snapshot_step=2500, show_metric=True, run_id=MODEL_NAME)\n",
    "\n",
    "\n",
    "                #if count%10 == 0:\n",
    "                    #print('SAVING MODEL!')\n",
    "                    #model.save(MODEL_NAME)\n",
    "\n",
    "            except Exception as e:\n",
    "                print(str(e))\n",
    "             \n",
    "    saver = tf.train.Saver()\n",
    "    save_path = saver.save(sess, \"./model/model.ckpt\")"
   ]
  },
  {
   "cell_type": "code",
   "execution_count": null,
   "metadata": {
    "collapsed": true
   },
   "outputs": [],
   "source": []
  }
 ],
 "metadata": {
  "kernelspec": {
   "display_name": "Python 3",
   "language": "python",
   "name": "python3"
  },
  "language_info": {
   "codemirror_mode": {
    "name": "ipython",
    "version": 3
   },
   "file_extension": ".py",
   "mimetype": "text/x-python",
   "name": "python",
   "nbconvert_exporter": "python",
   "pygments_lexer": "ipython3",
   "version": "3.6.2"
  }
 },
 "nbformat": 4,
 "nbformat_minor": 2
}
