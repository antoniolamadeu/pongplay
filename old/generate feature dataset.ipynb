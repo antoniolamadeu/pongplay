{
 "cells": [
  {
   "cell_type": "code",
   "execution_count": 4,
   "metadata": {
    "collapsed": true
   },
   "outputs": [],
   "source": [
    "import tensorflow as tf\n",
    "import numpy as np\n",
    "import matplotlib.pyplot as plt\n",
    "%matplotlib inline\n",
    "import cv2\n",
    "\n",
    "from get_pong_data import get_objects_locations"
   ]
  },
  {
   "cell_type": "code",
   "execution_count": 5,
   "metadata": {
    "collapsed": true
   },
   "outputs": [],
   "source": [
    "train_data = np.load(file=\"train_data/training_data-1.npy\", encoding='bytes')"
   ]
  },
  {
   "cell_type": "code",
   "execution_count": 6,
   "metadata": {},
   "outputs": [
    {
     "data": {
      "text/plain": [
       "<matplotlib.image.AxesImage at 0xe76f9e8>"
      ]
     },
     "execution_count": 6,
     "metadata": {},
     "output_type": "execute_result"
    },
    {
     "data": {
      "image/png": "[encoded data removed]",
      "text/plain": [
       "<matplotlib.figure.Figure at 0xa5800f0>"
      ]
     },
     "metadata": {},
     "output_type": "display_data"
    }
   ],
   "source": [
    "plt.imshow(train_data[0][0])"
   ]
  },
  {
   "cell_type": "code",
   "execution_count": 8,
   "metadata": {
    "scrolled": false
   },
   "outputs": [],
   "source": [
    "train_features_x = list()\n",
    "train_features_y = list()\n",
    "\n",
    "#Skip first train data to compute its position\n",
    "first_data_features = get_objects_locations(train_data[0][0])\n",
    "last_pos_h = first_data_features[0]\n",
    "last_pos_v = first_data_features[1]\n",
    "\n",
    "train_files = [\n",
    "    \"train_data/training_data-1.npy\",\n",
    "    \"train_data/training_data-2.npy\",\n",
    "    \"train_data/training_data-3.npy\",\n",
    "    \"train_data/training_data-4.npy\"\n",
    "] \n",
    "\n",
    "for train_file in train_files:\n",
    "\n",
    "    train_data = np.load(file=train_file, encoding='bytes')\n",
    "    \n",
    "    for td_x, td_y in train_data[1:]:\n",
    "        #Get image features (objects positions)\n",
    "        td_x_features = get_objects_locations(td_x)\n",
    "        #Calculate current speed (delta space) and insert it\n",
    "        h_speed = td_x_features[0] - last_pos_h\n",
    "        v_speed = td_x_features[1] - last_pos_v\n",
    "\n",
    "        last_pos_h = td_x_features[0]\n",
    "        last_pos_v = td_x_features[1]\n",
    "\n",
    "        td_x_features = np.insert(td_x_features, 2, [h_speed, v_speed])\n",
    "        \n",
    "        train_features_x.append(td_x_features)\n",
    "        train_features_y.append(td_y)\n",
    "\n",
    "        #train_features.append((td_x_features, td_y))\n",
    "    \n",
    "    \n",
    "    \n",
    "    #print(td_x_features,td_y, end=\"\\n\\n\")\n",
    "    #break\n",
    "    \n",
    "#print(train_features_x)\n",
    "#print(train_features_y)\n",
    "\n",
    "#get_objects_locations(train_data[0][0])"
   ]
  },
  {
   "cell_type": "code",
   "execution_count": 11,
   "metadata": {},
   "outputs": [],
   "source": [
    "traindata_x_np = np.array(train_features_x)\n",
    "traindata_y_np = np.array(train_features_y)"
   ]
  },
  {
   "cell_type": "code",
   "execution_count": 8,
   "metadata": {
    "collapsed": true
   },
   "outputs": [],
   "source": [
    "#train_features_np = np.array(train_features)"
   ]
  },
  {
   "cell_type": "code",
   "execution_count": 10,
   "metadata": {},
   "outputs": [
    {
     "data": {
      "text/plain": [
       "(3996, 2)"
      ]
     },
     "execution_count": 10,
     "metadata": {},
     "output_type": "execute_result"
    }
   ],
   "source": [
    "#train_features_np.shape"
   ]
  },
  {
   "cell_type": "code",
   "execution_count": 13,
   "metadata": {},
   "outputs": [],
   "source": [
    "np.save(\"train_data_inputs\", traindata_x_np)\n",
    "np.save(\"train_data_labels\", traindata_y_np)"
   ]
  },
  {
   "cell_type": "code",
   "execution_count": 13,
   "metadata": {},
   "outputs": [
    {
     "data": {
      "text/plain": [
       "array([array([ 145.5,   80.5,   -9.5,    9. ,   28.5,   94.5,  449.5,  151.5]),\n",
       "       list([1, 0, 0])], dtype=object)"
      ]
     },
     "execution_count": 13,
     "metadata": {},
     "output_type": "execute_result"
    }
   ],
   "source": [
    "train_features_np[0]"
   ]
  },
  {
   "cell_type": "code",
   "execution_count": null,
   "metadata": {
    "collapsed": true
   },
   "outputs": [],
   "source": []
  }
 ],
 "metadata": {
  "kernelspec": {
   "display_name": "Python 3",
   "language": "python",
   "name": "python3"
  },
  "language_info": {
   "codemirror_mode": {
    "name": "ipython",
    "version": 3
   },
   "file_extension": ".py",
   "mimetype": "text/x-python",
   "name": "python",
   "nbconvert_exporter": "python",
   "pygments_lexer": "ipython3",
   "version": "3.6.2"
  }
 },
 "nbformat": 4,
 "nbformat_minor": 2
}
