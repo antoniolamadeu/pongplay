{
 "cells": [
  {
   "cell_type": "markdown",
   "metadata": {},
   "source": [
    "# Train Model to play pong"
   ]
  },
  {
   "cell_type": "code",
   "execution_count": 41,
   "metadata": {
    "collapsed": true
   },
   "outputs": [],
   "source": [
    "import tensorflow as tf\n",
    "import numpy as np\n",
    "import matplotlib.pyplot as plt\n",
    "%matplotlib inline"
   ]
  },
  {
   "cell_type": "markdown",
   "metadata": {},
   "source": [
    "## Loading and inspecting training data"
   ]
  },
  {
   "cell_type": "code",
   "execution_count": 42,
   "metadata": {
    "collapsed": true
   },
   "outputs": [],
   "source": [
    "dataset = np.load(file=\"traindata_v2.npy\", encoding='bytes')"
   ]
  },
  {
   "cell_type": "code",
   "execution_count": 43,
   "metadata": {
    "scrolled": true
   },
   "outputs": [
    {
     "name": "stdout",
     "output_type": "stream",
     "text": [
      "Counter({0.0: 14764, 1.0: 2708, 2.0: 2528})\n",
      "Prediction must be higher than: 0.7382\n"
     ]
    }
   ],
   "source": [
    "from collections import Counter\n",
    "labels_counter = Counter(dataset[:,6].tolist())\n",
    "print(labels_counter)\n",
    "\n",
    "print(\"Prediction must be higher than: {}\".format(labels_counter[0.0]/dataset.shape[0]))"
   ]
  },
  {
   "cell_type": "markdown",
   "metadata": {},
   "source": [
    "## Create size invariant features\n",
    "We will get the approximate width and height of the game window and divide vertical and horizontal features by these values so we get size invariant features so the model can perform nearly the same in any size."
   ]
  },
  {
   "cell_type": "code",
   "execution_count": 44,
   "metadata": {
    "collapsed": true
   },
   "outputs": [],
   "source": [
    "def set_size_invariant_features(dataset):\n",
    "    #Get max and min feature values of the entire dataset\n",
    "    min_values = np.amin(dataset, axis=0)\n",
    "    max_values = np.amax(dataset, axis=0)\n",
    "    \n",
    "    #We will set the width the difference between the bars horizontal positions max and min\n",
    "    gwindow_width = max_values[4] - min_values[2]\n",
    "    #We will set the height as the difference between the max and mins positions the ball has deslocated\n",
    "    gwindow_height = max_values[1] - min_values[1]\n",
    "    \n",
    "    #Create vector to transform features to position invariant\n",
    "    #We will divide horizontal features by the width and vertical features by the height\n",
    "    pos_invariant_vector = np.array([\n",
    "        gwindow_width, gwindow_height, #Ball position\n",
    "        gwindow_width, gwindow_height, #Bar1 position\n",
    "        gwindow_width, gwindow_height, #Bar2 position\n",
    "        1 #datapoint label, stays the same\n",
    "    ])\n",
    "    \n",
    "    return dataset/pos_invariant_vector"
   ]
  },
  {
   "cell_type": "code",
   "execution_count": 45,
   "metadata": {},
   "outputs": [],
   "source": [
    "dataset = set_size_invariant_features(dataset)"
   ]
  },
  {
   "cell_type": "markdown",
   "metadata": {},
   "source": [
    "## Set up ball speed as a feature"
   ]
  },
  {
   "cell_type": "code",
   "execution_count": 46,
   "metadata": {
    "collapsed": true
   },
   "outputs": [],
   "source": [
    "def set_ball_speed(dataset):\n",
    "    #Since we don't know the previous position of the first sample, we will have one less datapoint\n",
    "    #Velocity(T) = Position(T) - Position(T-1)\n",
    "    speed_datapoints = dataset[1:, :2] - dataset[0:-1, :2]\n",
    "    #Insert new datapoints after the ball position features\n",
    "    new_dataset = np.concatenate((dataset[1:, :2], speed_datapoints, dataset[1:, 2:]), axis=1)\n",
    "    return new_dataset   "
   ]
  },
  {
   "cell_type": "code",
   "execution_count": 47,
   "metadata": {
    "collapsed": true
   },
   "outputs": [],
   "source": [
    "dataset = set_ball_speed(dataset)"
   ]
  },
  {
   "cell_type": "markdown",
   "metadata": {},
   "source": [
    "## Creating model"
   ]
  },
  {
   "cell_type": "code",
   "execution_count": 48,
   "metadata": {
    "collapsed": true
   },
   "outputs": [],
   "source": [
    "tf.reset_default_graph()\n",
    "\n",
    "n_features = 8\n",
    "\n",
    "x_mean = tf.Variable(initial_value=[0]*n_features, trainable=False, dtype=tf.float32)\n",
    "x_std = tf.Variable(initial_value=[1]*n_features, trainable=False, dtype=tf.float32)\n",
    "\n",
    "x = tf.placeholder(dtype=tf.float32, shape=[None, n_features])\n",
    "\n",
    "x_norm = (x-x_mean)/x_std\n",
    "    \n",
    "y = tf.placeholder(dtype=tf.int32, shape=[None])\n",
    "y_onehot = tf.one_hot(y, depth=3)\n",
    "    \n",
    "h1 = tf.layers.dense(x, 20, activation=tf.nn.relu)\n",
    "h2 = tf.layers.dense(h1, 20, activation=tf.nn.relu)\n",
    "#h3 = tf.layers.dense(h2, 10, activation=tf.nn.relu)\n",
    "    \n",
    "logits = tf.layers.dense(h2, 3, activation=None)\n",
    "\n",
    "sc = tf.nn.softmax_cross_entropy_with_logits(logits=logits, labels=y_onehot)\n",
    "\n",
    "cost = tf.reduce_mean(sc)\n",
    "\n",
    "# Accuracy\n",
    "correct_pred = tf.equal(tf.argmax(logits, 1), tf.argmax(y_onehot, 1))\n",
    "accuracy = tf.reduce_mean(tf.cast(correct_pred, tf.float32), name='accuracy')\n",
    "\n",
    "#Optimizer\n",
    "optimizer = tf.train.AdamOptimizer(0.001).minimize(cost)"
   ]
  },
  {
   "cell_type": "code",
   "execution_count": 49,
   "metadata": {
    "collapsed": true,
    "scrolled": true
   },
   "outputs": [],
   "source": [
    "def balance_data_labels():\n",
    "    extra_data_inputs = list()\n",
    "    extra_data_labels = list()\n",
    "\n",
    "    for d_input, d_label in zip(train_data_inputs, train_data_labels):\n",
    "        if d_label[1] == 1 or d_label[2] == 1:\n",
    "            for _ in range(5):\n",
    "                extra_data_inputs.append(d_input.copy())\n",
    "                extra_data_labels.append(d_label.copy())\n",
    "\n",
    "    extra_data_inputs = np.array(extra_data_inputs)\n",
    "    extra_data_labels = np.array(extra_data_labels)\n",
    "\n",
    "    print(extra_data_inputs.shape)\n",
    "    print(extra_data_labels.shape)\n",
    "\n",
    "    enhanced_train_data_inputs = np.concatenate((train_data_inputs, extra_data_inputs), axis=0)\n",
    "    enhanced_train_data_labels = np.concatenate((train_data_labels, extra_data_labels), axis=0)\n",
    "\n",
    "    print(enhanced_train_data_inputs.shape)\n",
    "    print(enhanced_train_data_labels.shape)"
   ]
  },
  {
   "cell_type": "markdown",
   "metadata": {},
   "source": [
    "## Normalize data"
   ]
  },
  {
   "cell_type": "code",
   "execution_count": 50,
   "metadata": {
    "collapsed": true
   },
   "outputs": [],
   "source": [
    "def normalize_data():\n",
    "    data_mean = np.mean(enhanced_train_data_inputs, axis=0)\n",
    "    data_std = np.std(enhanced_train_data_inputs, axis=0)\n",
    "\n",
    "    norm_enhanced_train_data_inputs = (enhanced_train_data_inputs - data_mean) / data_std"
   ]
  },
  {
   "cell_type": "markdown",
   "metadata": {},
   "source": [
    "## Get norm factors"
   ]
  },
  {
   "cell_type": "code",
   "execution_count": 51,
   "metadata": {
    "collapsed": true
   },
   "outputs": [],
   "source": [
    "data_mean = np.mean(dataset, axis=0)\n",
    "data_std = np.std(dataset, axis=0)"
   ]
  },
  {
   "cell_type": "markdown",
   "metadata": {},
   "source": [
    "## Split dataset into training validation and test set"
   ]
  },
  {
   "cell_type": "code",
   "execution_count": 52,
   "metadata": {
    "scrolled": true
   },
   "outputs": [
    {
     "name": "stdout",
     "output_type": "stream",
     "text": [
      "(11999, 9)\n",
      "(4000, 9)\n",
      "(4000, 9)\n"
     ]
    }
   ],
   "source": [
    "from sklearn.model_selection import train_test_split\n",
    "\n",
    "train_data, test_data = train_test_split(dataset, test_size=0.4, random_state=None)\n",
    "valid_data, test_data = train_test_split(test_data, test_size=0.5, random_state=None)\n",
    "\n",
    "print(train_data.shape)\n",
    "print(valid_data.shape)\n",
    "print(test_data.shape)"
   ]
  },
  {
   "cell_type": "code",
   "execution_count": 53,
   "metadata": {
    "scrolled": true
   },
   "outputs": [
    {
     "name": "stdout",
     "output_type": "stream",
     "text": [
      "[[ 0.12612185  0.0712743  -0.01959174  0.00431965  0.08571388  0.27861771\n",
      "   1.08004808  0.16225937]]\n",
      "[ 0.]\n"
     ]
    }
   ],
   "source": [
    "print(train_data[:1, :-1])\n",
    "print(train_data[:1, -1])"
   ]
  },
  {
   "cell_type": "markdown",
   "metadata": {},
   "source": [
    "## Run model"
   ]
  },
  {
   "cell_type": "code",
   "execution_count": 54,
   "metadata": {},
   "outputs": [
    {
     "name": "stdout",
     "output_type": "stream",
     "text": [
      "Epoch: 0 Cost: 1.0058982372283936\n",
      "Accuracy: 0.5285000205039978\n",
      "\n",
      "Epoch: 500 Cost: 0.6440725922584534\n",
      "Accuracy: 0.7425000071525574\n",
      "\n",
      "Epoch: 1000 Cost: 0.584337055683136\n",
      "Accuracy: 0.7677500247955322\n",
      "\n",
      "Epoch: 1500 Cost: 0.5386120080947876\n",
      "Accuracy: 0.7889999747276306\n",
      "\n",
      "Epoch: 2000 Cost: 0.493974506855011\n",
      "Accuracy: 0.8044999837875366\n",
      "\n",
      "Epoch: 2500 Cost: 0.46625053882598877\n",
      "Accuracy: 0.809499979019165\n",
      "\n",
      "Epoch: 3000 Cost: 0.44995737075805664\n",
      "Accuracy: 0.8117499947547913\n",
      "\n",
      "Epoch: 3500 Cost: 0.43750202655792236\n",
      "Accuracy: 0.8152499794960022\n",
      "\n",
      "Epoch: 4000 Cost: 0.43082860112190247\n",
      "Accuracy: 0.8184999823570251\n",
      "\n",
      "Epoch: 4500 Cost: 0.426719605922699\n",
      "Accuracy: 0.8195000290870667\n",
      "\n",
      "Epoch: 5000 Cost: 0.42346230149269104\n",
      "Accuracy: 0.8205000162124634\n",
      "\n",
      "Epoch: 5500 Cost: 0.42081648111343384\n",
      "Accuracy: 0.8199999928474426\n",
      "\n",
      "Epoch: 6000 Cost: 0.41890397667884827\n",
      "Accuracy: 0.8195000290870667\n",
      "\n",
      "Epoch: 6500 Cost: 0.4170292317867279\n",
      "Accuracy: 0.8182500004768372\n",
      "\n",
      "Epoch: 7000 Cost: 0.41517555713653564\n",
      "Accuracy: 0.8180000185966492\n",
      "\n",
      "Epoch: 7500 Cost: 0.41351163387298584\n",
      "Accuracy: 0.8169999718666077\n",
      "\n",
      "Epoch: 8000 Cost: 0.4119994342327118\n",
      "Accuracy: 0.8197500109672546\n",
      "\n",
      "Epoch: 8500 Cost: 0.41046637296676636\n",
      "Accuracy: 0.8207499980926514\n",
      "\n",
      "Epoch: 9000 Cost: 0.4091470539569855\n",
      "Accuracy: 0.8215000033378601\n",
      "\n",
      "Epoch: 9500 Cost: 0.40789616107940674\n",
      "Accuracy: 0.8222500085830688\n",
      "\n"
     ]
    },
    {
     "data": {
      "image/png": "[encoded data removed]",
      "text/plain": [
       "<matplotlib.figure.Figure at 0xb82acc0>"
      ]
     },
     "metadata": {},
     "output_type": "display_data"
    },
    {
     "data": {
      "image/png": "[encoded data removed]",
      "text/plain": [
       "<matplotlib.figure.Figure at 0xb8b3cc0>"
      ]
     },
     "metadata": {},
     "output_type": "display_data"
    },
    {
     "name": "stdout",
     "output_type": "stream",
     "text": [
      "Final accuracy: 0.8027499914169312\n"
     ]
    }
   ],
   "source": [
    "from random import shuffle\n",
    "import sklearn\n",
    "from sklearn.model_selection import train_test_split\n",
    "import matplotlib\n",
    "\n",
    "epochs = 10000\n",
    "\n",
    "cost_list = []\n",
    "acc_list = []\n",
    "\n",
    "with tf.Session() as sess:\n",
    "    # Initializing the variables\n",
    "    sess.run(tf.global_variables_initializer())\n",
    "    \n",
    "    #Assign norm factors values\n",
    "    #sess.run(tf.assign(x_mean, data_mean[:-1]))\n",
    "    #sess.run(tf.assign(x_std, data_std[:-1]))\n",
    "\n",
    "    for e in range(epochs):\n",
    "        \n",
    "        #Run optimizer and compute cost\n",
    "        x_train = train_data[:, :-1]\n",
    "        y_train = train_data[:, -1]\n",
    "                \n",
    "        cost_value, _ = sess.run([cost, optimizer], feed_dict={\n",
    "            x: x_train,\n",
    "            y: y_train\n",
    "        })\n",
    "\n",
    "        if e % 500 == 0:\n",
    "            print(\"Epoch: {} Cost: {}\".format(e, cost_value))\n",
    "\n",
    "        cost_list.append(cost_value)\n",
    "\n",
    "        \n",
    "        \n",
    "        #Run accuracy and compute its value\n",
    "        x_valid = valid_data[:, :-1]\n",
    "        y_valid = valid_data[:, -1]\n",
    "        \n",
    "        acc_value = sess.run(accuracy, feed_dict={\n",
    "            x: x_valid,\n",
    "            y: y_valid\n",
    "        })\n",
    "                \n",
    "        acc_list.append(acc_value)\n",
    "\n",
    "        if e % 500 == 0:\n",
    "            print(\"Accuracy: {}\".format(acc_value))\n",
    "            print(\"\")\n",
    "            \n",
    "            \n",
    "     \n",
    "    #Calculate final accuracy\n",
    "    x_test = test_data[:, :-1]\n",
    "    y_test = test_data[:, -1]\n",
    "    \n",
    "    final_acc, predictions = sess.run([accuracy, logits], feed_dict={\n",
    "            x: x_test,\n",
    "            y: y_test\n",
    "        })\n",
    "    \n",
    "    #print(predictions)\n",
    "\n",
    "             \n",
    "    plt.plot(cost_list)\n",
    "    plt.show()\n",
    "    plt.plot(acc_list)\n",
    "    plt.show()\n",
    "    print(\"Final accuracy: {}\".format(final_acc))\n",
    "            \n",
    "    saver = tf.train.Saver()\n",
    "    save_path = saver.save(sess, \"./model/model_v21.ckpt\")"
   ]
  },
  {
   "cell_type": "code",
   "execution_count": 55,
   "metadata": {},
   "outputs": [
    {
     "name": "stdout",
     "output_type": "stream",
     "text": [
      "Counter({0: 3161, 1: 420, 2: 419})\n",
      "Counter({0.0: 2882, 1.0: 575, 2.0: 543})\n"
     ]
    }
   ],
   "source": [
    "print(Counter(np.argmax(predictions, axis=1).tolist()))\n",
    "print(Counter(y_test))"
   ]
  },
  {
   "cell_type": "code",
   "execution_count": null,
   "metadata": {
    "collapsed": true
   },
   "outputs": [],
   "source": []
  }
 ],
 "metadata": {
  "kernelspec": {
   "display_name": "Python 3",
   "language": "python",
   "name": "python3"
  },
  "language_info": {
   "codemirror_mode": {
    "name": "ipython",
    "version": 3
   },
   "file_extension": ".py",
   "mimetype": "text/x-python",
   "name": "python",
   "nbconvert_exporter": "python",
   "pygments_lexer": "ipython3",
   "version": "3.6.2"
  }
 },
 "nbformat": 4,
 "nbformat_minor": 2
}
