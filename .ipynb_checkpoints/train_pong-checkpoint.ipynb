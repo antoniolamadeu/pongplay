{
 "cells": [
  {
   "cell_type": "code",
   "execution_count": 104,
   "metadata": {
    "collapsed": true
   },
   "outputs": [],
   "source": [
    "import tensorflow as tf\n",
    "import numpy as np\n",
    "import matplotlib.pyplot as plt\n",
    "%matplotlib inline\n",
    "\n",
    "from get_pong_data import get_objects_locations\n",
    "\n",
    "\n",
    "#must compute current speed of the ball to check where it is going to"
   ]
  },
  {
   "cell_type": "code",
   "execution_count": 105,
   "metadata": {
    "collapsed": true
   },
   "outputs": [],
   "source": [
    "#get_objects_locations(train_data[1][0])"
   ]
  },
  {
   "cell_type": "code",
   "execution_count": 106,
   "metadata": {
    "collapsed": true
   },
   "outputs": [],
   "source": [
    "#480 #270 #1"
   ]
  },
  {
   "cell_type": "code",
   "execution_count": 107,
   "metadata": {
    "collapsed": true
   },
   "outputs": [],
   "source": [
    "train_data_inputs = np.load(file=\"train_data_inputs.npy\", encoding='bytes')\n",
    "train_data_labels = np.load(file=\"train_data_labels.npy\", encoding='bytes')"
   ]
  },
  {
   "cell_type": "code",
   "execution_count": 108,
   "metadata": {
    "scrolled": true
   },
   "outputs": [
    {
     "name": "stdout",
     "output_type": "stream",
     "text": [
      "(3510, 8)\n",
      "(3510, 3)\n",
      "(7506, 8)\n",
      "(7506, 3)\n"
     ]
    }
   ],
   "source": [
    "extra_data_inputs = list()\n",
    "extra_data_labels = list()\n",
    "\n",
    "for d_input, d_label in zip(train_data_inputs, train_data_labels):\n",
    "    if d_label[1] == 1 or d_label[2] == 1:\n",
    "        for _ in range(5):\n",
    "            extra_data_inputs.append(d_input.copy())\n",
    "            extra_data_labels.append(d_label.copy())\n",
    "            \n",
    "extra_data_inputs = np.array(extra_data_inputs)\n",
    "extra_data_labels = np.array(extra_data_labels)\n",
    "\n",
    "print(extra_data_inputs.shape)\n",
    "print(extra_data_labels.shape)\n",
    "\n",
    "enhanced_train_data_inputs = np.concatenate((train_data_inputs, extra_data_inputs), axis=0)\n",
    "enhanced_train_data_labels = np.concatenate((train_data_labels, extra_data_labels), axis=0)\n",
    "\n",
    "print(enhanced_train_data_inputs.shape)\n",
    "print(enhanced_train_data_labels.shape)"
   ]
  },
  {
   "cell_type": "markdown",
   "metadata": {},
   "source": [
    "## Normalize data"
   ]
  },
  {
   "cell_type": "code",
   "execution_count": 111,
   "metadata": {
    "collapsed": true
   },
   "outputs": [],
   "source": [
    "data_mean = np.mean(enhanced_train_data_inputs, axis=0)\n",
    "data_std = np.std(enhanced_train_data_inputs, axis=0)\n",
    "\n",
    "norm_enhanced_train_data_inputs = (enhanced_train_data_inputs - data_mean) / data_std"
   ]
  },
  {
   "cell_type": "code",
   "execution_count": 112,
   "metadata": {},
   "outputs": [],
   "source": [
    "#data_std"
   ]
  },
  {
   "cell_type": "markdown",
   "metadata": {},
   "source": [
    "## Split dataset into training validation and test set"
   ]
  },
  {
   "cell_type": "code",
   "execution_count": 121,
   "metadata": {
    "collapsed": true
   },
   "outputs": [],
   "source": [
    "from sklearn.model_selection import train_test_split\n",
    "X_train, X_test, y_train, y_test = train_test_split(norm_enhanced_train_data_inputs, enhanced_train_data_labels, test_size=0.4, random_state=42)\n",
    "X_valid, X_test, y_valid, y_test = train_test_split(X_test, y_test, test_size=0.5, random_state=42)"
   ]
  },
  {
   "cell_type": "code",
   "execution_count": 122,
   "metadata": {},
   "outputs": [
    {
     "data": {
      "text/plain": [
       "[[2, 4, 7, 1, 0, 8, 6, 3], [9, 5], [2, 4, 7, 1, 0, 8, 6, 3], [9, 5]]"
      ]
     },
     "execution_count": 122,
     "metadata": {},
     "output_type": "execute_result"
    }
   ],
   "source": [
    "list1 = list(range(0,10))\n",
    "list2 = list(range(0,10))\n",
    "train_test_split(list1, list2, test_size=0.2, random_state=5)"
   ]
  },
  {
   "cell_type": "code",
   "execution_count": 123,
   "metadata": {},
   "outputs": [
    {
     "data": {
      "text/plain": [
       "(4503, 8)"
      ]
     },
     "execution_count": 123,
     "metadata": {},
     "output_type": "execute_result"
    }
   ],
   "source": [
    "X_train.shape"
   ]
  },
  {
   "cell_type": "markdown",
   "metadata": {},
   "source": [
    "## Create model"
   ]
  },
  {
   "cell_type": "code",
   "execution_count": 128,
   "metadata": {
    "collapsed": true
   },
   "outputs": [],
   "source": [
    "def pong_dense_model():\n",
    "    inputs = tf.placeholder(dtype=tf.float32, shape=[None, 8])\n",
    "    \n",
    "    y = tf.placeholder(dtype=tf.float32, shape=[None, 3])\n",
    "    \n",
    "    h1 = tf.layers.dense(inputs, 20, activation=tf.nn.relu)\n",
    "    h2 = tf.layers.dense(h1, 20, activation=tf.nn.relu)\n",
    "    h3 = tf.layers.dense(h2, 10, activation=tf.nn.relu)\n",
    "    \n",
    "    logits = tf.layers.dense(h3, 3, activation=None)\n",
    "\n",
    "    sc = tf.nn.softmax_cross_entropy_with_logits(logits=logits, labels=y)\n",
    "\n",
    "    cost = tf.reduce_mean(sc)\n",
    "\n",
    "    # Accuracy\n",
    "    correct_pred = tf.equal(tf.argmax(logits, 1), tf.argmax(y, 1))\n",
    "    accuracy = tf.reduce_mean(tf.cast(correct_pred, tf.float32), name='accuracy')\n",
    "    \n",
    "    return inputs, y, logits, cost, accuracy\n",
    "    "
   ]
  },
  {
   "cell_type": "code",
   "execution_count": 129,
   "metadata": {
    "collapsed": true
   },
   "outputs": [],
   "source": [
    "#from pong_model import pong_model\n",
    "\n",
    "# Remove previous weights, bias, inputs, etc..\n",
    "tf.reset_default_graph()\n",
    "\n",
    "\n",
    "inputs, y, logits, cost, accuracy = pong_dense_model()\n",
    "\n",
    "optimizer = tf.train.AdamOptimizer(0.01).minimize(cost)\n",
    "\n"
   ]
  },
  {
   "cell_type": "code",
   "execution_count": 131,
   "metadata": {},
   "outputs": [
    {
     "name": "stdout",
     "output_type": "stream",
     "text": [
      "Epoch: 0 Cost: 1.1327524185180664\n",
      "Accuracy: 0.3624250590801239\n",
      "\n",
      "Epoch: 500 Cost: 0.3396291732788086\n",
      "Accuracy: 0.8134576678276062\n",
      "\n",
      "Epoch: 1000 Cost: 0.2848663032054901\n",
      "Accuracy: 0.8094603419303894\n",
      "\n",
      "Epoch: 1500 Cost: 0.26006993651390076\n",
      "Accuracy: 0.8341106176376343\n",
      "\n",
      "Epoch: 2000 Cost: 0.24427221715450287\n",
      "Accuracy: 0.8341106176376343\n",
      "\n",
      "Epoch: 2500 Cost: 0.24237866699695587\n",
      "Accuracy: 0.8500999212265015\n",
      "\n",
      "Epoch: 3000 Cost: 0.2026253044605255\n",
      "Accuracy: 0.8634243607521057\n",
      "\n",
      "Epoch: 3500 Cost: 0.19453008472919464\n",
      "Accuracy: 0.8647568225860596\n",
      "\n",
      "Epoch: 4000 Cost: 0.22615908086299896\n",
      "Accuracy: 0.8500999212265015\n",
      "\n",
      "Epoch: 4500 Cost: 0.1779916137456894\n",
      "Accuracy: 0.8760825991630554\n",
      "\n",
      "Epoch: 5000 Cost: 0.18019352853298187\n",
      "Accuracy: 0.8734177350997925\n",
      "\n",
      "Epoch: 5500 Cost: 0.16696207225322723\n",
      "Accuracy: 0.8827448487281799\n",
      "\n",
      "Epoch: 6000 Cost: 0.16450820863246918\n",
      "Accuracy: 0.8840773105621338\n",
      "\n",
      "Epoch: 6500 Cost: 0.16639916598796844\n",
      "Accuracy: 0.8787475228309631\n",
      "\n",
      "Epoch: 7000 Cost: 0.15615050494670868\n",
      "Accuracy: 0.8920719623565674\n",
      "\n",
      "Epoch: 7500 Cost: 0.15388043224811554\n",
      "Accuracy: 0.8887408375740051\n",
      "\n",
      "Epoch: 8000 Cost: 0.1507451981306076\n",
      "Accuracy: 0.8894070386886597\n",
      "\n",
      "Epoch: 8500 Cost: 0.1499628871679306\n",
      "Accuracy: 0.8887408375740051\n",
      "\n",
      "Epoch: 9000 Cost: 0.160520538687706\n",
      "Accuracy: 0.8847435116767883\n",
      "\n",
      "Epoch: 9500 Cost: 0.14401133358478546\n",
      "Accuracy: 0.8967354893684387\n",
      "\n"
     ]
    },
    {
     "data": {
      "image/png": "[encoded data removed]",
      "text/plain": [
       "<matplotlib.figure.Figure at 0x1219d7b8>"
      ]
     },
     "metadata": {},
     "output_type": "display_data"
    },
    {
     "data": {
      "image/png": "[encoded data removed]",
      "text/plain": [
       "<matplotlib.figure.Figure at 0x125cb8d0>"
      ]
     },
     "metadata": {},
     "output_type": "display_data"
    },
    {
     "name": "stdout",
     "output_type": "stream",
     "text": [
      "Final accuracy: 0.9134487509727478\n"
     ]
    }
   ],
   "source": [
    "from random import shuffle\n",
    "import sklearn\n",
    "from sklearn.model_selection import train_test_split\n",
    "import matplotlib\n",
    "\n",
    "epochs = 10000\n",
    "#atch_size = 1000\n",
    "\n",
    "cost_list = []\n",
    "acc_list = []\n",
    "\n",
    "with tf.Session() as sess:\n",
    "    # Initializing the variables\n",
    "    sess.run(tf.global_variables_initializer())\n",
    "\n",
    "    for e in range(epochs):\n",
    "                \n",
    "        #for b in range(0, 800, batch_size):\n",
    "\n",
    "        cost_value, _ = sess.run([cost, optimizer], feed_dict={\n",
    "            inputs: X_train,\n",
    "            y: y_train\n",
    "        })\n",
    "\n",
    "        if e % 500 == 0:\n",
    "            print(\"Epoch: {} Cost: {}\".format(e, cost_value))\n",
    "\n",
    "        cost_list.append(cost_value)\n",
    "\n",
    "        acc_value = sess.run(accuracy, feed_dict={\n",
    "            inputs: X_valid,\n",
    "            y: y_valid\n",
    "        })\n",
    "                \n",
    "        acc_list.append(acc_value)\n",
    "\n",
    "        if e % 500 == 0:\n",
    "            print(\"Accuracy: {}\".format(acc_value))\n",
    "            print(\"\")\n",
    "     \n",
    "    #Calculate final accuracy\n",
    "    final_acc = sess.run(accuracy, feed_dict={\n",
    "            inputs: X_test,\n",
    "            y: y_test\n",
    "        })\n",
    "\n",
    "             \n",
    "    plt.plot(cost_list)\n",
    "    plt.show()\n",
    "    plt.plot(acc_list)\n",
    "    plt.show()\n",
    "    print(\"Final accuracy: {}\".format(final_acc))\n",
    "            \n",
    "    saver = tf.train.Saver()\n",
    "    save_path = saver.save(sess, \"./model/model2.ckpt\")"
   ]
  },
  {
   "cell_type": "code",
   "execution_count": null,
   "metadata": {
    "collapsed": true
   },
   "outputs": [],
   "source": []
  }
 ],
 "metadata": {
  "kernelspec": {
   "display_name": "Python 3",
   "language": "python",
   "name": "python3"
  },
  "language_info": {
   "codemirror_mode": {
    "name": "ipython",
    "version": 3
   },
   "file_extension": ".py",
   "mimetype": "text/x-python",
   "name": "python",
   "nbconvert_exporter": "python",
   "pygments_lexer": "ipython3",
   "version": "3.6.2"
  }
 },
 "nbformat": 4,
 "nbformat_minor": 2
}
